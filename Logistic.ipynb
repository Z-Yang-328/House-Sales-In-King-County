{
 "cells": [
  {
   "cell_type": "code",
   "execution_count": 53,
   "metadata": {
    "collapsed": false
   },
   "outputs": [],
   "source": [
    "import numpy as np\n",
    "import pandas as pd\n",
    "from sklearn import linear_model, datasets\n",
    "from sklearn.cross_validation import train_test_split"
   ]
  },
  {
   "cell_type": "code",
   "execution_count": 60,
   "metadata": {
    "collapsed": false
   },
   "outputs": [
    {
     "name": "stdout",
     "output_type": "stream",
     "text": [
      "[0 1 0 ..., 1 1 1]\n"
     ]
    }
   ],
   "source": [
    "data = pd.read_csv('kc_house_data.csv')\n",
    "data.pop('id')\n",
    "data.pop('date')\n",
    "price = data.pop('price')\n",
    "data.pop('zipcode')\n",
    "data.pop('yr_built')\n",
    "\n",
    "\n",
    "#price = all_data['price']\n",
    "labels_list = []\n",
    "for i in range(len(price)):\n",
    "    if price[i] <= 300000:\n",
    "        labels_list.append(0)\n",
    "    elif price[i] <= 600000:\n",
    "        labels_list.append(1)\n",
    "    else:\n",
    "        labels_list.append(2)\n",
    "    \n",
    "labels = np.array(labels_list)\n",
    "print(labels)\n"
   ]
  },
  {
   "cell_type": "code",
   "execution_count": 61,
   "metadata": {
    "collapsed": false
   },
   "outputs": [
    {
     "name": "stderr",
     "output_type": "stream",
     "text": [
      "/home/yangzhibo5947/anaconda3/lib/python3.5/site-packages/ipykernel/__main__.py:1: SettingWithCopyWarning: \n",
      "A value is trying to be set on a copy of a slice from a DataFrame\n",
      "\n",
      "See the caveats in the documentation: http://pandas.pydata.org/pandas-docs/stable/indexing.html#indexing-view-versus-copy\n",
      "  if __name__ == '__main__':\n",
      "/home/yangzhibo5947/anaconda3/lib/python3.5/site-packages/ipykernel/__main__.py:2: SettingWithCopyWarning: \n",
      "A value is trying to be set on a copy of a slice from a DataFrame\n",
      "\n",
      "See the caveats in the documentation: http://pandas.pydata.org/pandas-docs/stable/indexing.html#indexing-view-versus-copy\n",
      "  from ipykernel import kernelapp as app\n",
      "/home/yangzhibo5947/anaconda3/lib/python3.5/site-packages/ipykernel/__main__.py:3: SettingWithCopyWarning: \n",
      "A value is trying to be set on a copy of a slice from a DataFrame\n",
      "\n",
      "See the caveats in the documentation: http://pandas.pydata.org/pandas-docs/stable/indexing.html#indexing-view-versus-copy\n",
      "  app.launch_new_instance()\n"
     ]
    }
   ],
   "source": [
    "data.sqft_living[data.sqft_living >= 2250] = 2 \n",
    "data.sqft_living[data.sqft_living >= 1560 ] = 1 \n",
    "data.sqft_living[data.sqft_living > 2] = 0 "
   ]
  },
  {
   "cell_type": "code",
   "execution_count": 62,
   "metadata": {
    "collapsed": false
   },
   "outputs": [
    {
     "name": "stderr",
     "output_type": "stream",
     "text": [
      "/home/yangzhibo5947/anaconda3/lib/python3.5/site-packages/ipykernel/__main__.py:1: SettingWithCopyWarning: \n",
      "A value is trying to be set on a copy of a slice from a DataFrame\n",
      "\n",
      "See the caveats in the documentation: http://pandas.pydata.org/pandas-docs/stable/indexing.html#indexing-view-versus-copy\n",
      "  if __name__ == '__main__':\n",
      "/home/yangzhibo5947/anaconda3/lib/python3.5/site-packages/ipykernel/__main__.py:2: SettingWithCopyWarning: \n",
      "A value is trying to be set on a copy of a slice from a DataFrame\n",
      "\n",
      "See the caveats in the documentation: http://pandas.pydata.org/pandas-docs/stable/indexing.html#indexing-view-versus-copy\n",
      "  from ipykernel import kernelapp as app\n",
      "/home/yangzhibo5947/anaconda3/lib/python3.5/site-packages/ipykernel/__main__.py:3: SettingWithCopyWarning: \n",
      "A value is trying to be set on a copy of a slice from a DataFrame\n",
      "\n",
      "See the caveats in the documentation: http://pandas.pydata.org/pandas-docs/stable/indexing.html#indexing-view-versus-copy\n",
      "  app.launch_new_instance()\n",
      "/home/yangzhibo5947/anaconda3/lib/python3.5/site-packages/ipykernel/__main__.py:5: SettingWithCopyWarning: \n",
      "A value is trying to be set on a copy of a slice from a DataFrame\n",
      "\n",
      "See the caveats in the documentation: http://pandas.pydata.org/pandas-docs/stable/indexing.html#indexing-view-versus-copy\n",
      "/home/yangzhibo5947/anaconda3/lib/python3.5/site-packages/ipykernel/__main__.py:6: SettingWithCopyWarning: \n",
      "A value is trying to be set on a copy of a slice from a DataFrame\n",
      "\n",
      "See the caveats in the documentation: http://pandas.pydata.org/pandas-docs/stable/indexing.html#indexing-view-versus-copy\n",
      "/home/yangzhibo5947/anaconda3/lib/python3.5/site-packages/ipykernel/__main__.py:7: SettingWithCopyWarning: \n",
      "A value is trying to be set on a copy of a slice from a DataFrame\n",
      "\n",
      "See the caveats in the documentation: http://pandas.pydata.org/pandas-docs/stable/indexing.html#indexing-view-versus-copy\n",
      "/home/yangzhibo5947/anaconda3/lib/python3.5/site-packages/ipykernel/__main__.py:10: SettingWithCopyWarning: \n",
      "A value is trying to be set on a copy of a slice from a DataFrame\n",
      "\n",
      "See the caveats in the documentation: http://pandas.pydata.org/pandas-docs/stable/indexing.html#indexing-view-versus-copy\n",
      "/home/yangzhibo5947/anaconda3/lib/python3.5/site-packages/ipykernel/__main__.py:11: SettingWithCopyWarning: \n",
      "A value is trying to be set on a copy of a slice from a DataFrame\n",
      "\n",
      "See the caveats in the documentation: http://pandas.pydata.org/pandas-docs/stable/indexing.html#indexing-view-versus-copy\n",
      "/home/yangzhibo5947/anaconda3/lib/python3.5/site-packages/ipykernel/__main__.py:12: SettingWithCopyWarning: \n",
      "A value is trying to be set on a copy of a slice from a DataFrame\n",
      "\n",
      "See the caveats in the documentation: http://pandas.pydata.org/pandas-docs/stable/indexing.html#indexing-view-versus-copy\n",
      "/home/yangzhibo5947/anaconda3/lib/python3.5/site-packages/ipykernel/__main__.py:14: SettingWithCopyWarning: \n",
      "A value is trying to be set on a copy of a slice from a DataFrame\n",
      "\n",
      "See the caveats in the documentation: http://pandas.pydata.org/pandas-docs/stable/indexing.html#indexing-view-versus-copy\n",
      "/home/yangzhibo5947/anaconda3/lib/python3.5/site-packages/ipykernel/__main__.py:15: SettingWithCopyWarning: \n",
      "A value is trying to be set on a copy of a slice from a DataFrame\n",
      "\n",
      "See the caveats in the documentation: http://pandas.pydata.org/pandas-docs/stable/indexing.html#indexing-view-versus-copy\n",
      "/home/yangzhibo5947/anaconda3/lib/python3.5/site-packages/ipykernel/__main__.py:16: SettingWithCopyWarning: \n",
      "A value is trying to be set on a copy of a slice from a DataFrame\n",
      "\n",
      "See the caveats in the documentation: http://pandas.pydata.org/pandas-docs/stable/indexing.html#indexing-view-versus-copy\n",
      "/home/yangzhibo5947/anaconda3/lib/python3.5/site-packages/ipykernel/__main__.py:18: SettingWithCopyWarning: \n",
      "A value is trying to be set on a copy of a slice from a DataFrame\n",
      "\n",
      "See the caveats in the documentation: http://pandas.pydata.org/pandas-docs/stable/indexing.html#indexing-view-versus-copy\n"
     ]
    },
    {
     "name": "stdout",
     "output_type": "stream",
     "text": [
      "17290\n",
      "4323\n"
     ]
    },
    {
     "name": "stderr",
     "output_type": "stream",
     "text": [
      "/home/yangzhibo5947/anaconda3/lib/python3.5/site-packages/ipykernel/__main__.py:19: SettingWithCopyWarning: \n",
      "A value is trying to be set on a copy of a slice from a DataFrame\n",
      "\n",
      "See the caveats in the documentation: http://pandas.pydata.org/pandas-docs/stable/indexing.html#indexing-view-versus-copy\n",
      "/home/yangzhibo5947/anaconda3/lib/python3.5/site-packages/ipykernel/__main__.py:20: SettingWithCopyWarning: \n",
      "A value is trying to be set on a copy of a slice from a DataFrame\n",
      "\n",
      "See the caveats in the documentation: http://pandas.pydata.org/pandas-docs/stable/indexing.html#indexing-view-versus-copy\n"
     ]
    }
   ],
   "source": [
    "data.sqft_lot[data.sqft_lot >= 9145] = 2\n",
    "data.sqft_lot[data.sqft_lot >= 5937] = 1\n",
    "data.sqft_lot[data.sqft_lot > 2] = 0 \n",
    "\n",
    "data.sqft_above[data.sqft_above >= 1880] = 2  \n",
    "data.sqft_above[data.sqft_above >= 1290] = 1\n",
    "data.sqft_above[data.sqft_above > 2] = 0\n",
    "\n",
    " \n",
    "data.sqft_basement[data.sqft_basement >=279] = 2 \n",
    "data.sqft_basement[data.sqft_basement > 2] = 1\n",
    "data.sqft_basement[data.sqft_basement ==0] = 0\n",
    "\n",
    "data.sqft_living15[data.sqft_living15 >= 2110] = 2\n",
    "data.sqft_living15[data.sqft_living15 >= 1580] = 1\n",
    "data.sqft_living15[data.sqft_living15 > 2] = 0\n",
    "        \n",
    "data.sqft_lot15[data.sqft_lot15 >= 8800] = 2\n",
    "data.sqft_lot15[data.sqft_lot15 >= 5907] = 1\n",
    "data.sqft_lot15[data.sqft_lot15 > 2] = 0   \n",
    "\n",
    "data = data.values\n",
    "\n",
    "train_data, test_data, train_labels, test_labels = train_test_split(data, labels, test_size = 0.2)\n",
    "\n",
    "train_data, test_data, train_labels, test_labels = np.array(train_data, dtype = 'float32'), np.array(test_data, dtype = 'float32'),np.array(train_labels, dtype = 'float32'),np.array(test_labels, dtype = 'float32')\n",
    "\n",
    "print(len(train_data))\n",
    "print(len(test_data))\n",
    "\n",
    "x_train = train_data \n",
    "y_train_labels = train_labels\n",
    "x_test = test_data\n",
    "y_test_labels = test_labels\n"
   ]
  },
  {
   "cell_type": "code",
   "execution_count": 63,
   "metadata": {
    "collapsed": false
   },
   "outputs": [
    {
     "data": {
      "text/plain": [
       "LogisticRegression(C=100000.0, class_weight=None, dual=False,\n",
       "          fit_intercept=True, intercept_scaling=1, max_iter=100,\n",
       "          multi_class='ovr', n_jobs=1, penalty='l2', random_state=None,\n",
       "          solver='liblinear', tol=0.0001, verbose=0, warm_start=False)"
      ]
     },
     "execution_count": 63,
     "metadata": {},
     "output_type": "execute_result"
    }
   ],
   "source": [
    "logreg = linear_model.LogisticRegression(C=1e5)\n",
    "\n",
    "# we create an instance of Neighbours Classifier and fit the data.\n",
    "logreg.fit(x_train, y_train_labels)"
   ]
  },
  {
   "cell_type": "code",
   "execution_count": 64,
   "metadata": {
    "collapsed": true
   },
   "outputs": [],
   "source": [
    "y_train = logreg.predict(x_train)"
   ]
  },
  {
   "cell_type": "code",
   "execution_count": 68,
   "metadata": {
    "collapsed": false
   },
   "outputs": [
    {
     "name": "stdout",
     "output_type": "stream",
     "text": [
      "predicted number of female 3250\n",
      "predicted number of male 9488\n",
      "predicted number of male 4552\n",
      "total number of train data: 17290\n"
     ]
    }
   ],
   "source": [
    "count_0 = 0\n",
    "count_1 = 0\n",
    "count_2 = 0\n",
    "\n",
    "for i in range(0,17290):\n",
    "    #if y_test[i] < 0.4:\n",
    "     if  (y_train[i] == 0):\n",
    "       count_0 += 1\n",
    "     elif y_train[i] == 1:\n",
    "       count_1 += 1\n",
    "     else:\n",
    "       count_2 += 1\n",
    "    \n",
    "    \n",
    "print(\"predicted number of female\", count_0)\n",
    "print(\"predicted number of male\", count_1)\n",
    "print(\"predicted number of male\", count_2)\n",
    "#print(\"predicted number of male\", count_3)\n",
    "#print(\"predicted number of male\", count_4)\n",
    "print(\"total number of train data:\",count_0 + count_1 + count_2)"
   ]
  },
  {
   "cell_type": "code",
   "execution_count": 74,
   "metadata": {
    "collapsed": false
   },
   "outputs": [
    {
     "name": "stdout",
     "output_type": "stream",
     "text": [
      "Number of correct prediction 13072\n",
      "Number of wrong prediction 4218\n"
     ]
    }
   ],
   "source": [
    "correct_predic = 0\n",
    "wrong_predic = 0\n",
    "for i in range(0,17290):\n",
    "    if y_train_labels[i] == y_train[i]:\n",
    "       correct_predic += 1\n",
    "    else:\n",
    "       wrong_predic += 1\n",
    "    \n",
    "print(\"Number of correct prediction\", correct_predic)\n",
    "print(\"Number of wrong prediction\", wrong_predic)"
   ]
  },
  {
   "cell_type": "code",
   "execution_count": 75,
   "metadata": {
    "collapsed": false
   },
   "outputs": [
    {
     "name": "stdout",
     "output_type": "stream",
     "text": [
      "Correct rate is:  0.756043956043956\n"
     ]
    }
   ],
   "source": [
    "print(\"Correct rate is: \", correct_predic/(wrong_predic + correct_predic))"
   ]
  },
  {
   "cell_type": "code",
   "execution_count": 76,
   "metadata": {
    "collapsed": true
   },
   "outputs": [],
   "source": [
    "y_test = logreg.predict(x_test)"
   ]
  },
  {
   "cell_type": "code",
   "execution_count": 77,
   "metadata": {
    "collapsed": false
   },
   "outputs": [
    {
     "name": "stdout",
     "output_type": "stream",
     "text": [
      "predicted number of female 817\n",
      "predicted number of male 1950\n",
      "predicted number of male 1556\n",
      "total number of train data: 4323\n"
     ]
    }
   ],
   "source": [
    "count_0 = 0\n",
    "count_1 = 0\n",
    "count_2 = 0\n",
    "\n",
    "for i in range(0,4323):\n",
    "    #if y_test[i] < 0.4:\n",
    "     if  (y_test[i] == 0):\n",
    "       count_0 += 1\n",
    "     elif y_train[i] == 1:\n",
    "       count_1 += 1\n",
    "     else:\n",
    "       count_2 += 1\n",
    "    \n",
    "    \n",
    "print(\"predicted number of female\", count_0)\n",
    "print(\"predicted number of male\", count_1)\n",
    "print(\"predicted number of male\", count_2)\n",
    "#print(\"predicted number of male\", count_3)\n",
    "#print(\"predicted number of male\", count_4)\n",
    "print(\"total number of train data:\",count_0 + count_1 + count_2)"
   ]
  },
  {
   "cell_type": "code",
   "execution_count": 78,
   "metadata": {
    "collapsed": false
   },
   "outputs": [
    {
     "name": "stdout",
     "output_type": "stream",
     "text": [
      "Number of correct prediction 3259\n",
      "Number of wrong prediction 1064\n"
     ]
    }
   ],
   "source": [
    "correct_predic = 0\n",
    "wrong_predic = 0\n",
    "for i in range(0,4323):\n",
    "    if y_test_labels[i] == y_test[i]:\n",
    "       correct_predic += 1\n",
    "    else:\n",
    "       wrong_predic += 1\n",
    "    \n",
    "print(\"Number of correct prediction\", correct_predic)\n",
    "print(\"Number of wrong prediction\", wrong_predic)"
   ]
  },
  {
   "cell_type": "code",
   "execution_count": 79,
   "metadata": {
    "collapsed": false
   },
   "outputs": [
    {
     "name": "stdout",
     "output_type": "stream",
     "text": [
      "Correct rate is:  0.7538746241036317\n"
     ]
    }
   ],
   "source": [
    "print(\"Correct rate is: \", correct_predic/(wrong_predic + correct_predic))"
   ]
  },
  {
   "cell_type": "code",
   "execution_count": null,
   "metadata": {
    "collapsed": true
   },
   "outputs": [],
   "source": []
  }
 ],
 "metadata": {
  "anaconda-cloud": {},
  "kernelspec": {
   "display_name": "Python [Root]",
   "language": "python",
   "name": "Python [Root]"
  },
  "language_info": {
   "codemirror_mode": {
    "name": "ipython",
    "version": 3
   },
   "file_extension": ".py",
   "mimetype": "text/x-python",
   "name": "python",
   "nbconvert_exporter": "python",
   "pygments_lexer": "ipython3",
   "version": "3.5.2"
  }
 },
 "nbformat": 4,
 "nbformat_minor": 0
}
